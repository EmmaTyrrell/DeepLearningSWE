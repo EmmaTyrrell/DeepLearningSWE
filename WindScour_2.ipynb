{
 "cells": [
  {
   "cell_type": "code",
   "execution_count": null,
   "id": "53dc9deb-49b4-4af1-8408-7ec90221059e",
   "metadata": {},
   "outputs": [
    {
     "name": "stdout",
     "output_type": "stream",
     "text": [
      "import modules\n"
     ]
    },
    {
     "name": "stderr",
     "output_type": "stream",
     "text": [
      "C:\\Users\\etyrr\\AppData\\Local\\Temp\\ipykernel_15476\\2283929655.py:51: RuntimeWarning: overflow encountered in scalar subtract\n",
      "  elev_diff = dem[ni, nj] - dem[i, j]\n"
     ]
    }
   ],
   "source": [
    "import rasterio\n",
    "import numpy as np\n",
    "import os\n",
    "print(\"import modules\")\n",
    "\n",
    "# paths\n",
    "output_path = r\"D:\\ASOML\\Rockies\\features\\ASOML_CON_windScour_30_albn83_adjusts_colorado.tif\"\n",
    "dem_path = r\"D:\\ASOML\\Rockies\\wind_scourProcessing\\ASO_dem_30m_CO_albn83.tif\"\n",
    "wind_path = r\"D:\\ASOML\\Rockies\\wind_scourProcessing\\ASO_windDir_30m_CO_albn83.tif\"\n",
    "\n",
    "\n",
    "def compute_winstral_sx_raster(dem, wind_dir_deg, cellsize, dmax=200, sector_width=30, angle_step=5):\n",
    "    \"\"\"\n",
    "    Compute the Winstral Sx index with a per-pixel wind direction raster.\n",
    "\n",
    "    Parameters:\n",
    "        dem (np.ndarray): 2D array of elevation values\n",
    "        wind_dir_deg (np.ndarray): 2D array of wind direction (degrees)\n",
    "        cellsize (float): Pixel resolution (meters)\n",
    "        dmax (float): Max distance to search (meters)\n",
    "        sector_width (float): Width of the wind direction sector (degrees)\n",
    "        angle_step (float): Angle increment within sector (degrees)\n",
    "\n",
    "    Returns:\n",
    "        sx (np.ndarray): 2D array of Sx index values\n",
    "    \"\"\"\n",
    "    rows, cols = dem.shape\n",
    "    max_pixels = int(dmax / cellsize)\n",
    "    sx = np.full_like(dem, np.nan, dtype=np.float32)\n",
    "\n",
    "    sector_angles = np.arange(-sector_width / 2, sector_width / 2 + angle_step, angle_step)\n",
    "\n",
    "    for i in range(rows):\n",
    "        for j in range(cols):\n",
    "            if np.isnan(dem[i, j]) or np.isnan(wind_dir_deg[i, j]):\n",
    "                continue\n",
    "\n",
    "            local_wind_deg = wind_dir_deg[i, j]\n",
    "            local_slopes = []\n",
    "\n",
    "            for delta_deg in sector_angles:\n",
    "                angle_deg = (local_wind_deg + delta_deg) % 360\n",
    "                angle_rad = np.deg2rad(angle_deg)\n",
    "\n",
    "                for d in range(1, max_pixels + 1):\n",
    "                    dx = int(np.round(d * np.cos(angle_rad)))\n",
    "                    dy = int(np.round(d * np.sin(angle_rad)))\n",
    "                    ni, nj = i + dy, j + dx\n",
    "\n",
    "                    if 0 <= ni < rows and 0 <= nj < cols and not np.isnan(dem[ni, nj]):\n",
    "                        elev_diff = dem[ni, nj] - dem[i, j]\n",
    "                        slope = elev_diff / (d * cellsize)\n",
    "                        local_slopes.append(slope)\n",
    "\n",
    "            if local_slopes:\n",
    "                local_slopes = np.array(local_slopes)\n",
    "                max_slope = np.nanmax(local_slopes)\n",
    "                min_slope = np.nanmin(local_slopes)\n",
    "                sx_val = np.arctan(min_slope) if -min_slope > max_slope else np.arctan(max_slope)\n",
    "                sx[i, j] = sx_val\n",
    "\n",
    "    return sx\n",
    "\n",
    "# apply function\n",
    "with rasterio.open(dem_path) as dem_src, rasterio.open(wind_path) as wind_src:\n",
    "    dem = dem_src.read(1)\n",
    "    wind_dir = wind_src.read(1)\n",
    "    profile = dem_src.profile\n",
    "    transform = dem_src.transform\n",
    "    cellsize = transform[0]\n",
    "\n",
    "# Run function\n",
    "sx_result = compute_winstral_sx_raster(dem, wind_dir, cellsize)\n",
    "\n",
    "# Save output raster\n",
    "profile.update(dtype=rasterio.float32, nodata=np.nan)\n",
    "with rasterio.open(output_path, 'w', **profile) as dst:\n",
    "    dst.write(sx_result, 1)\n",
    "\n",
    "print(\"Saved enhanced Winstral Sx raster with per-pixel wind direction.\")\n"
   ]
  }
 ],
 "metadata": {
  "kernelspec": {
   "display_name": "Python (aso-dl)",
   "language": "python",
   "name": "aso-dl"
  },
  "language_info": {
   "codemirror_mode": {
    "name": "ipython",
    "version": 3
   },
   "file_extension": ".py",
   "mimetype": "text/x-python",
   "name": "python",
   "nbconvert_exporter": "python",
   "pygments_lexer": "ipython3",
   "version": "3.9.18"
  }
 },
 "nbformat": 4,
 "nbformat_minor": 5
}
