{
 "cells": [
  {
   "cell_type": "code",
   "execution_count": 3,
   "id": "c0b44011-d10a-43ca-9a4e-a78e9e0b7e0c",
   "metadata": {},
   "outputs": [
    {
     "name": "stdout",
     "output_type": "stream",
     "text": [
      "import modules\n",
      "rasterio opened\n",
      "rows and cols\n",
      "distance\n"
     ]
    },
    {
     "name": "stderr",
     "output_type": "stream",
     "text": [
      "C:\\Users\\etyrr\\AppData\\Local\\Temp\\ipykernel_3852\\2680541369.py:51: RuntimeWarning: overflow encountered in scalar subtract\n",
      "  slope = (dem[ni, nj] - dem[i, j]) / (d * res)  # Compute slope\n"
     ]
    },
    {
     "name": "stdout",
     "output_type": "stream",
     "text": [
      "Saved wind shelter index raster following Winstral et al. (2002) to D:\\ASOML\\Rockies\\features\\ASOML_CON_windScour_60_albn83.tif\n"
     ]
    }
   ],
   "source": [
    "# import rasterio\n",
    "# import dempy\n",
    "# import numpy as np\n",
    "# import pandas as pd\n",
    "# import geopandas as gpd\n",
    "import rasterio\n",
    "import numpy as np\n",
    "import os\n",
    "print(\"import modules\")\n",
    "\n",
    "# Load DEM and Wind Direction Raster\n",
    "dem_path = r\"D:\\ASOML\\Rockies\\features\\ASO_CON_dem_albn83_60m.tif\"\n",
    "wind_dir_path = r\"D:\\ASOML\\Rockies\\ASO_CON_windDir_60m_albn83.tif\"\n",
    "\n",
    "with rasterio.open(dem_path) as dem_src, rasterio.open(wind_dir_path) as wind_src:\n",
    "    dem = dem_src.read(1)  # Elevation values\n",
    "    wind_dir = wind_src.read(1)  # Wind direction (in degrees)\n",
    "    profile = dem_src.profile\n",
    "    transform = dem_src.transform\n",
    "    res = transform[0]  # Cell resolution (assuming square pixels)\n",
    "    print(\"rasterio opened\")\n",
    "\n",
    "# Convert Wind Direction to Radians\n",
    "wind_rad = np.deg2rad(wind_dir)\n",
    "\n",
    "# Initialize output raster\n",
    "rows, cols = dem.shape\n",
    "sx = np.full_like(dem, np.nan, dtype=np.float32)  # Wind shelter index raster\n",
    "print(\"rows and cols\")\n",
    "\n",
    "# Define maximum search distance (200m)\n",
    "max_distance = 200  # meters\n",
    "max_pixels = int(max_distance / res)\n",
    "print(\"distance\")\n",
    "\n",
    "# Compute Wind Shelter Index (Sx) for each cell\n",
    "for i in range(rows):\n",
    "    for j in range(cols):\n",
    "        if np.isnan(dem[i, j]) or np.isnan(wind_rad[i, j]):\n",
    "            continue  # Skip no-data values\n",
    "        \n",
    "        max_slope = -np.inf  # Initialize the maximum slope found\n",
    "\n",
    "        # Search in the direction specified by the wind direction raster\n",
    "        for d in range(1, max_pixels + 1):  # Search up to 200m\n",
    "            dx = int(np.round(d * np.cos(wind_rad[i, j])))  # X-offset\n",
    "            dy = int(np.round(d * np.sin(wind_rad[i, j])))  # Y-offset\n",
    "            ni, nj = i + dy, j + dx  # Neighboring pixel\n",
    "\n",
    "            if 0 <= ni < rows and 0 <= nj < cols:\n",
    "                slope = (dem[ni, nj] - dem[i, j]) / (d * res)  # Compute slope\n",
    "                max_slope = max(max_slope, slope)  # Keep max upwind slope\n",
    "\n",
    "        sx[i, j] = max_slope if max_slope != -np.inf else np.nan  # Assign value\n",
    "\n",
    "# Save Wind Shelter Index (Sx) Raster\n",
    "output_path = r\"D:\\ASOML\\Rockies\\features\\ASOML_CON_windScour_60_albn83.tif\"\n",
    "profile.update(dtype=rasterio.float32, nodata=np.nan)\n",
    "with rasterio.open(output_path, 'w', **profile) as dst:\n",
    "    dst.write(sx, 1)\n",
    "\n",
    "print(f\"Saved wind shelter index raster following Winstral et al. (2002) to {output_path}\")\n"
   ]
  },
  {
   "cell_type": "code",
   "execution_count": 4,
   "id": "604b6289-7f45-44d7-9fe4-f5785b38774c",
   "metadata": {},
   "outputs": [],
   "source": [
    "import numpy as np\n",
    "import rasterio\n",
    "\n",
    "def compute_winstral_sx_raster(dem, wind_dir_deg, cellsize, dmax=200, sector_width=30, angle_step=5):\n",
    "    \"\"\"\n",
    "    Compute the Winstral Sx index with a per-pixel wind direction raster.\n",
    "\n",
    "    Parameters:\n",
    "        dem (np.ndarray): 2D array of elevation values\n",
    "        wind_dir_deg (np.ndarray): 2D array of wind direction (degrees)\n",
    "        cellsize (float): Pixel resolution (meters)\n",
    "        dmax (float): Max distance to search (meters)\n",
    "        sector_width (float): Width of the wind direction sector (degrees)\n",
    "        angle_step (float): Angle increment within sector (degrees)\n",
    "\n",
    "    Returns:\n",
    "        sx (np.ndarray): 2D array of Sx index values\n",
    "    \"\"\"\n",
    "    rows, cols = dem.shape\n",
    "    max_pixels = int(dmax / cellsize)\n",
    "    sx = np.full_like(dem, np.nan, dtype=np.float32)\n",
    "\n",
    "    sector_angles = np.arange(-sector_width / 2, sector_width / 2 + angle_step, angle_step)\n",
    "\n",
    "    for i in range(rows):\n",
    "        for j in range(cols):\n",
    "            if np.isnan(dem[i, j]) or np.isnan(wind_dir_deg[i, j]):\n",
    "                continue\n",
    "\n",
    "            local_wind_deg = wind_dir_deg[i, j]\n",
    "            local_slopes = []\n",
    "\n",
    "            for delta_deg in sector_angles:\n",
    "                angle_deg = (local_wind_deg + delta_deg) % 360\n",
    "                angle_rad = np.deg2rad(angle_deg)\n",
    "\n",
    "                for d in range(1, max_pixels + 1):\n",
    "                    dx = int(np.round(d * np.cos(angle_rad)))\n",
    "                    dy = int(np.round(d * np.sin(angle_rad)))\n",
    "                    ni, nj = i + dy, j + dx\n",
    "\n",
    "                    if 0 <= ni < rows and 0 <= nj < cols and not np.isnan(dem[ni, nj]):\n",
    "                        elev_diff = dem[ni, nj] - dem[i, j]\n",
    "                        slope = elev_diff / (d * cellsize)\n",
    "                        local_slopes.append(slope)\n",
    "\n",
    "            if local_slopes:\n",
    "                local_slopes = np.array(local_slopes)\n",
    "                max_slope = np.nanmax(local_slopes)\n",
    "                min_slope = np.nanmin(local_slopes)\n",
    "                sx_val = np.arctan(min_slope) if -min_slope > max_slope else np.arctan(max_slope)\n",
    "                sx[i, j] = sx_val\n",
    "\n",
    "    return sx\n"
   ]
  },
  {
   "cell_type": "code",
   "execution_count": null,
   "id": "f3e60424-12e9-4580-8ca7-3a747eee16ca",
   "metadata": {},
   "outputs": [
    {
     "name": "stderr",
     "output_type": "stream",
     "text": [
      "C:\\Users\\etyrr\\AppData\\Local\\Temp\\ipykernel_3852\\950542151.py:43: RuntimeWarning: overflow encountered in scalar subtract\n",
      "  elev_diff = dem[ni, nj] - dem[i, j]\n"
     ]
    }
   ],
   "source": [
    "# Load DEM and Wind Direction Raster\n",
    "dem_path = r\"D:\\ASOML\\Rockies\\features\\ASO_CON_dem_albn83_60m.tif\"\n",
    "wind_path = r\"D:\\ASOML\\Rockies\\ASO_CON_windDir_60m_albn83.tif\"\n",
    "\n",
    "with rasterio.open(dem_path) as dem_src, rasterio.open(wind_path) as wind_src:\n",
    "    dem = dem_src.read(1)\n",
    "    wind_dir = wind_src.read(1)\n",
    "    profile = dem_src.profile\n",
    "    transform = dem_src.transform\n",
    "    cellsize = transform[0]\n",
    "\n",
    "# Run function\n",
    "sx_result = compute_winstral_sx_raster(dem, wind_dir, cellsize)\n",
    "\n",
    "# Save output raster\n",
    "output_path = r\"D:\\ASOML\\Rockies\\features\\ASOML_CON_windScour_60_albn83_adjusts.tif\"\n",
    "profile.update(dtype=rasterio.float32, nodata=np.nan)\n",
    "with rasterio.open(output_path, 'w', **profile) as dst:\n",
    "    dst.write(sx_result, 1)\n",
    "\n",
    "print(\"Saved enhanced Winstral Sx raster with per-pixel wind direction.\")\n"
   ]
  },
  {
   "cell_type": "code",
   "execution_count": null,
   "id": "55ff7063-4f21-46e6-a748-37c70569b7bb",
   "metadata": {},
   "outputs": [],
   "source": []
  }
 ],
 "metadata": {
  "kernelspec": {
   "display_name": "Python (aso-dl)",
   "language": "python",
   "name": "aso-dl"
  },
  "language_info": {
   "codemirror_mode": {
    "name": "ipython",
    "version": 3
   },
   "file_extension": ".py",
   "mimetype": "text/x-python",
   "name": "python",
   "nbconvert_exporter": "python",
   "pygments_lexer": "ipython3",
   "version": "3.9.18"
  }
 },
 "nbformat": 4,
 "nbformat_minor": 5
}
