{
 "cells": [
  {
   "cell_type": "code",
   "execution_count": 1,
   "id": "864cf48c-8849-4508-8d8a-be1ebd8ba9e8",
   "metadata": {},
   "outputs": [
    {
     "name": "stdout",
     "output_type": "stream",
     "text": [
      "modules imported\n"
     ]
    }
   ],
   "source": [
    "import os\n",
    "import rasterio\n",
    "from rasterio import windows\n",
    "from rasterio.enums import Resampling\n",
    "from scipy.ndimage import generic_filter\n",
    "import pandas as pd\n",
    "import numpy as np\n",
    "import re\n",
    "from datetime import datetime\n",
    "print(\"modules imported\")"
   ]
  },
  {
   "cell_type": "code",
   "execution_count": 2,
   "id": "acc22268-0414-4f59-a4db-a83be12ec315",
   "metadata": {},
   "outputs": [],
   "source": [
    "dem = r\"D:/ASOML/Sierras/features/ASOML_SNM_dem_60_albn83.tif\""
   ]
  },
  {
   "cell_type": "markdown",
   "id": "b3165465-b6bf-4b32-be6e-b2534cf315e3",
   "metadata": {},
   "source": [
    "Functions all below"
   ]
  },
  {
   "cell_type": "code",
   "execution_count": 3,
   "id": "a2f1f4ec-7806-4850-9b10-4267541dbc3e",
   "metadata": {},
   "outputs": [],
   "source": [
    "def slope_std_3x3(slope_raster_path, output_path):\n",
    "    with rasterio.open(slope_raster_path) as src:\n",
    "        slope = src.read(1, masked=True)\n",
    "        profile = src.profile.copy()\n",
    "\n",
    "    # Replace NoData with np.nan for proper std calculation\n",
    "    slope_data = slope.filled(np.nan)\n",
    "\n",
    "    # Define function that computes std ignoring NaNs\n",
    "    def nanstd_filter(x):\n",
    "        return np.nanstd(x)\n",
    "\n",
    "    # Apply 3x3 window\n",
    "    slope_std = generic_filter(\n",
    "        slope_data,\n",
    "        function=nanstd_filter,\n",
    "        size=3,\n",
    "        mode='nearest'\n",
    "    )\n",
    "\n",
    "    # Restore NoData areas\n",
    "    slope_std = np.where(np.isnan(slope_data), -9999, slope_std)\n",
    "\n",
    "    # Save to output raster\n",
    "    profile.update(dtype='float32', nodata=-9999)\n",
    "\n",
    "    with rasterio.open(output_path, 'w', **profile) as dst:\n",
    "        dst.write(slope_std.astype('float32'), 1)"
   ]
  },
  {
   "cell_type": "code",
   "execution_count": 4,
   "id": "5239a94e-fb05-4fe3-be4b-4f670f66d016",
   "metadata": {},
   "outputs": [],
   "source": [
    "def elevation_std_3x3(dem_path, output_path):\n",
    "    with rasterio.open(dem_path) as src:\n",
    "        dem = src.read(1, masked=True)\n",
    "        profile = src.profile.copy()\n",
    "\n",
    "    # Replace masked/no-data values with np.nan\n",
    "    dem_data = dem.filled(np.nan)\n",
    "\n",
    "    # Define a std function that ignores NaNs\n",
    "    def nanstd_filter(x):\n",
    "        return np.nanstd(x)\n",
    "\n",
    "    # Apply 3x3 moving window standard deviation\n",
    "    elevation_std = generic_filter(\n",
    "        dem_data,\n",
    "        function=nanstd_filter,\n",
    "        size=3,\n",
    "        mode='nearest'\n",
    "    )\n",
    "\n",
    "    # Set NaNs back to a NoData value (e.g., -9999)\n",
    "    elevation_std = np.where(np.isnan(dem_data), -9999, elevation_std)\n",
    "\n",
    "    # Update metadata and save\n",
    "    profile.update(dtype='float32', nodata=-9999)\n",
    "\n",
    "    with rasterio.open(output_path, 'w', **profile) as dst:\n",
    "        dst.write(elevation_std.astype('float32'), 1)"
   ]
  },
  {
   "cell_type": "code",
   "execution_count": 5,
   "id": "010f52ed-b446-490f-9a6c-eb503da3e280",
   "metadata": {},
   "outputs": [],
   "source": [
    "# this is to great the gradient mangintue \n",
    "def compute_gradient_magnitude(dem_path, output_path):\n",
    "    with rasterio.open(dem_path) as src:\n",
    "        dem = src.read(1, masked=True)\n",
    "        transform = src.transform\n",
    "        res_x = transform[0]    # pixel width\n",
    "        res_y = -transform[4]\n",
    "        profile = src.profile.copy()\n",
    "\n",
    "    # Compute partial derivatives using numpy gradient\n",
    "    dem_data = dem.filled(np.nan)\n",
    "    dz_dy, dz_dx = np.gradient(dem, res_y, res_x)  # note: y comes first\n",
    "    grad_mag = np.sqrt(dz_dx**2 + dz_dy**2)\n",
    "    grad_mag = np.where(np.isnan(dem_data), -9999, grad_mag)\n",
    "\n",
    "    # Save the result as a new raster\n",
    "    profile = src.profile.copy()\n",
    "    profile.update(dtype='float32', nodata=None)\n",
    "\n",
    "    with rasterio.open(output_path, 'w', **profile) as dst:\n",
    "        dst.write(grad_mag.astype('float32'), 1)"
   ]
  },
  {
   "cell_type": "code",
   "execution_count": null,
   "id": "37972597-2195-4bf7-8bfc-3e2769918b22",
   "metadata": {},
   "outputs": [],
   "source": [
    "compute_gradient_magnitude(dem, r\"D:/ASOML/Sierras/features/ASOML_SNM_gradMag_60_albn83.tif\")"
   ]
  },
  {
   "cell_type": "code",
   "execution_count": null,
   "id": "4abc2406-22ef-4db0-a2ea-01ff3ba33272",
   "metadata": {},
   "outputs": [
    {
     "name": "stderr",
     "output_type": "stream",
     "text": [
      "C:\\Users\\etyrr\\anaconda3\\envs\\aso-dl\\lib\\site-packages\\numpy\\lib\\nanfunctions.py:1879: RuntimeWarning: Degrees of freedom <= 0 for slice.\n",
      "  var = nanvar(a, axis=axis, dtype=dtype, out=out, ddof=ddof,\n"
     ]
    }
   ],
   "source": [
    "elevation_std_3x3(dem, r\"D:/ASOML/Sierras/features/ASOML_SNM_stdElv_60_albn83.tif\")"
   ]
  },
  {
   "cell_type": "code",
   "execution_count": null,
   "id": "c1f4ee2c-9f84-4d4b-9f46-e8d8d8fb97bd",
   "metadata": {},
   "outputs": [],
   "source": [
    "slope_std_3x3(r\"D:\\ASOML\\Sierras\\features\\ASOML_SNM_slope_60_albn83.tif\", r\"D:\\ASOML\\Sierras\\features\\ASOML_SNM_STDslope_60_albn83.tif\")"
   ]
  },
  {
   "cell_type": "code",
   "execution_count": null,
   "id": "d10c4fa6-0baa-4049-9274-8760e86010da",
   "metadata": {},
   "outputs": [],
   "source": []
  },
  {
   "cell_type": "code",
   "execution_count": null,
   "id": "0afedec3-98aa-480f-b5c2-594b826caedb",
   "metadata": {},
   "outputs": [],
   "source": []
  }
 ],
 "metadata": {
  "kernelspec": {
   "display_name": "Python (aso-dl)",
   "language": "python",
   "name": "aso-dl"
  },
  "language_info": {
   "codemirror_mode": {
    "name": "ipython",
    "version": 3
   },
   "file_extension": ".py",
   "mimetype": "text/x-python",
   "name": "python",
   "nbconvert_exporter": "python",
   "pygments_lexer": "ipython3",
   "version": "3.9.18"
  }
 },
 "nbformat": 4,
 "nbformat_minor": 5
}
