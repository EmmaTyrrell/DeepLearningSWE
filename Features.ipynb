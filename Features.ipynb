{
 "cells": [
  {
   "cell_type": "code",
   "execution_count": 1,
   "id": "864cf48c-8849-4508-8d8a-be1ebd8ba9e8",
   "metadata": {},
   "outputs": [
    {
     "name": "stdout",
     "output_type": "stream",
     "text": [
      "modules imported\n"
     ]
    }
   ],
   "source": [
    "import os\n",
    "import rasterio\n",
    "from rasterio import windows\n",
    "from rasterio.enums import Resampling\n",
    "from scipy.ndimage import generic_filter\n",
    "import pandas as pd\n",
    "import numpy as np\n",
    "import re\n",
    "from datetime import datetime\n",
    "print(\"modules imported\")"
   ]
  },
  {
   "cell_type": "code",
   "execution_count": 2,
   "id": "acc22268-0414-4f59-a4db-a83be12ec315",
   "metadata": {},
   "outputs": [],
   "source": [
    "dem = r\"D:/ASOML/Rockies/features/ASO_CON_dem_albn83_60m.tif\""
   ]
  },
  {
   "cell_type": "code",
   "execution_count": 3,
   "id": "520d3ae3-4f32-454f-8193-388d4a9de4ad",
   "metadata": {},
   "outputs": [],
   "source": [
    "def min_max_scale(data, min_val=None, max_val=None, feature_range=(0, 1)):\n",
    "    \"\"\"Min-Max normalize a NumPy array to a target range.\"\"\"\n",
    "    data = data.astype(np.float32)\n",
    "    mask = np.isnan(data)\n",
    "\n",
    "    d_min = np.nanmin(data) if min_val is None else min_val\n",
    "    d_max = np.nanmax(data) if max_val is None else max_val\n",
    "\n",
    "    # if d_max == d_min:\n",
    "    #     raise ValueError(\"Min and max are equal — can't scale.\")\n",
    "    if d_max == d_min:\n",
    "        return np.full_like(data, feature_range[0], dtype=np.float32)\n",
    "\n",
    "    a, b = feature_range\n",
    "    scaled = (data - d_min) / (d_max - d_min)  # to [0, 1]\n",
    "    scaled = scaled * (b - a) + a              # to [a, b]\n",
    "\n",
    "    scaled[mask] = np.nan  # preserve NaNs\n",
    "    return scaled"
   ]
  },
  {
   "cell_type": "code",
   "execution_count": 5,
   "id": "767f16bf-aee8-4ceb-aedd-1a3f2a03233a",
   "metadata": {},
   "outputs": [
    {
     "name": "stdout",
     "output_type": "stream",
     "text": [
      "D:/ASOML/Rockies/features/scaled/ASOML_CON_waterbodies_1_0_60_albn83_csl.tif saved\n"
     ]
    }
   ],
   "source": [
    "# loop through all the files\n",
    "inputFolder = \"D:/ASOML/Rockies/features/\"\n",
    "outputFolder = \"D:/ASOML/Rockies/features/scaled/\"\n",
    "raster_list = []\n",
    "\n",
    "# for filename in os.listdir(inputFolder):\n",
    "# #     if filename.endswith(\".tif\"):\n",
    "# print(filename)\n",
    "input_path = os.path.join(inputFolder, \"ASOML_CON_waterbodies_1_0_60_albn83.tif\")\n",
    "output_path = os.path.join(outputFolder, \"ASOML_CON_waterbodies_1_0_60_albn83_csl.tif\")\n",
    "\n",
    "with rasterio.open(input_path) as src:\n",
    "    data = src.read(1).astype(np.float32)\n",
    "    data[data == src.nodata] = np.nan  \n",
    "\n",
    "    scaled_data = min_max_scale(data)\n",
    "\n",
    "    # Save the scaled raster\n",
    "    profile = src.profile\n",
    "    profile.update(dtype=rasterio.float32, nodata=np.nan)\n",
    "\n",
    "    with rasterio.open(output_path, 'w', **profile) as dst:\n",
    "        scaled_data = np.nan_to_num(scaled_data, nan=profile[\"nodata\"])\n",
    "        dst.write(scaled_data, 1)\n",
    "    print(f\"{output_path} saved\")"
   ]
  },
  {
   "cell_type": "code",
   "execution_count": null,
   "id": "1bc8f83a-36f6-47b9-a06f-bb0e51967c98",
   "metadata": {},
   "outputs": [],
   "source": [
    "output_raster = r\"D:/ASOML/Rockies/features/ASOML_SNM_ProCurv_60_albn83_scl.tif\"\n",
    "input_ras = r\"D:/ASOML/Sierras/features/ASOML_SNM_ProCurv_60_albn83.tif\"\n",
    "with rasterio.open(input_ras) as src:\n",
    "    data = src.read(1, masked=True).filled(np.nan)  # Read first band as numpy array\n",
    "    profile = src.profile  # Get the metadata for saving later\n",
    "\n",
    "# Apply min-max scaling\n",
    "scaled_data = min_max_scale(data, feature_range=(0, 1))\n",
    "\n",
    "# Optional: Convert NaNs to a NoData value if needed\n",
    "nodata_value = profile.get('nodata', -1)\n",
    "scaled_data = np.where(np.isnan(scaled_data), nodata_value, scaled_data)\n",
    "\n",
    "# Update profile if needed\n",
    "profile.update(dtype=rasterio.float32, nodata=nodata_value)\n",
    "\n",
    "# Save scaled raster\n",
    "with rasterio.open(output_raster, 'w', **profile) as dst:\n",
    "    dst.write(scaled_data.astype(rasterio.float32), 1)\n",
    "\n",
    "print(f\"Scaled raster saved to: {output_raster}\")"
   ]
  },
  {
   "cell_type": "code",
   "execution_count": 3,
   "id": "5239a94e-fb05-4fe3-be4b-4f670f66d016",
   "metadata": {},
   "outputs": [],
   "source": [
    "def elevation_std_3x3(dem_path, output_path):\n",
    "    import numpy as np\n",
    "    import rasterio\n",
    "    from scipy.ndimage import generic_filter\n",
    "\n",
    "    with rasterio.open(dem_path) as src:\n",
    "        dem = src.read(1, masked=True)\n",
    "        profile = src.profile.copy()\n",
    "\n",
    "    # Convert to float so np.nan can be used\n",
    "    dem = dem.astype(np.float32)\n",
    "    \n",
    "    # Replace masked values with np.nan\n",
    "    dem_data = dem.filled(np.nan)\n",
    "\n",
    "    # Define a std filter that ignores NaNs\n",
    "    def nanstd_filter(x):\n",
    "        return np.nanstd(x)\n",
    "\n",
    "    # Apply 3x3 std filter\n",
    "    std_data = generic_filter(dem_data, nanstd_filter, size=3)\n",
    "\n",
    "    # Update profile for float output\n",
    "    profile.update(dtype='float32', nodata=np.nan)\n",
    "\n",
    "    with rasterio.open(output_path, 'w', **profile) as dst:\n",
    "        dst.write(std_data.astype(np.float32), 1)"
   ]
  },
  {
   "cell_type": "code",
   "execution_count": 4,
   "id": "4abc2406-22ef-4db0-a2ea-01ff3ba33272",
   "metadata": {},
   "outputs": [
    {
     "name": "stderr",
     "output_type": "stream",
     "text": [
      "C:\\Users\\etyrr\\anaconda3\\envs\\aso-dl\\lib\\site-packages\\numpy\\lib\\nanfunctions.py:1879: RuntimeWarning: Degrees of freedom <= 0 for slice.\n",
      "  var = nanvar(a, axis=axis, dtype=dtype, out=out, ddof=ddof,\n"
     ]
    }
   ],
   "source": [
    "elevation_std_3x3(dem, r\"D:\\ASOML\\Rockies\\features\\ASOML_CON_stdElv_60_albn83.tif\")"
   ]
  },
  {
   "cell_type": "code",
   "execution_count": null,
   "id": "a2f1f4ec-7806-4850-9b10-4267541dbc3e",
   "metadata": {},
   "outputs": [],
   "source": [
    "def slope_std_3x3(slope_raster_path, output_path):\n",
    "    with rasterio.open(slope_raster_path) as src:\n",
    "        slope = src.read(1, masked=True)\n",
    "        profile = src.profile.copy()\n",
    "\n",
    "    # Replace NoData with np.nan for proper std calculation\n",
    "    slope_data = slope.filled(np.nan)\n",
    "\n",
    "    # Define function that computes std ignoring NaNs\n",
    "    def nanstd_filter(x):\n",
    "        return np.nanstd(x)\n",
    "\n",
    "    # Apply 3x3 window\n",
    "    slope_std = generic_filter(\n",
    "        slope_data,\n",
    "        function=nanstd_filter,\n",
    "        size=3,\n",
    "        mode='nearest'\n",
    "    )\n",
    "\n",
    "    # Restore NoData areas\n",
    "    slope_std = np.where(np.isnan(slope_data), -9999, slope_std)\n",
    "\n",
    "    # Save to output raster\n",
    "    profile.update(dtype='float32', nodata=-9999)\n",
    "\n",
    "    with rasterio.open(output_path, 'w', **profile) as dst:\n",
    "        dst.write(slope_std.astype('float32'), 1)"
   ]
  },
  {
   "cell_type": "code",
   "execution_count": null,
   "id": "010f52ed-b446-490f-9a6c-eb503da3e280",
   "metadata": {},
   "outputs": [],
   "source": [
    "# this is to great the gradient mangintue \n",
    "def compute_gradient_magnitude(dem_path, output_path):\n",
    "    with rasterio.open(dem_path) as src:\n",
    "        dem = src.read(1, masked=True)\n",
    "        transform = src.transform\n",
    "        res_x = transform[0]    # pixel width\n",
    "        res_y = -transform[4]\n",
    "        profile = src.profile.copy()\n",
    "\n",
    "    # Compute partial derivatives using numpy gradient\n",
    "    dem_data = dem.filled(np.nan)\n",
    "    dz_dy, dz_dx = np.gradient(dem, res_y, res_x)  # note: y comes first\n",
    "    grad_mag = np.sqrt(dz_dx**2 + dz_dy**2)\n",
    "    grad_mag = np.where(np.isnan(dem_data), -9999, grad_mag)\n",
    "\n",
    "    # Save the result as a new raster\n",
    "    profile = src.profile.copy()\n",
    "    profile.update(dtype='float32', nodata=None)\n",
    "\n",
    "    with rasterio.open(output_path, 'w', **profile) as dst:\n",
    "        dst.write(grad_mag.astype('float32'), 1)"
   ]
  },
  {
   "cell_type": "code",
   "execution_count": null,
   "id": "c1f4ee2c-9f84-4d4b-9f46-e8d8d8fb97bd",
   "metadata": {},
   "outputs": [],
   "source": [
    "slope_std_3x3(r\"D:\\ASOML\\Rockies\\features\\ASO_CON_slope_albn83_60m.tif\", r\"D:\\ASOML\\Rockies\\features\\ASO_CON_STDslope_albn83_60m.tif\")"
   ]
  },
  {
   "cell_type": "code",
   "execution_count": null,
   "id": "37972597-2195-4bf7-8bfc-3e2769918b22",
   "metadata": {},
   "outputs": [],
   "source": [
    "compute_gradient_magnitude(dem, r\"D:/ASOML/Rockies/features/ASO_CON_gradMag_60_albn83.tif\")"
   ]
  },
  {
   "cell_type": "code",
   "execution_count": null,
   "id": "4aa70b03-b290-4d84-a2ef-fb8a503eb09e",
   "metadata": {},
   "outputs": [],
   "source": [
    "with rasterio.open(dem) as src:\n",
    "    dem = src.read(1, masked=True)\n",
    "    profile = src.profile.copy()\n",
    "    transform = src.transform\n",
    "    res_x = transform.a\n",
    "    res_y = -transform.e  # make it positive\n",
    "\n",
    "# Convert to float32\n",
    "dem_data = dem.astype('float32')\n",
    "dem_data = np.where(dem.mask, np.nan, dem_data)\n",
    "\n",
    "# Compute gradient\n",
    "dz_dy, dz_dx = np.gradient(dem_data, res_y, res_x)\n",
    "grad_mag = np.sqrt(dz_dx**2 + dz_dy**2)\n",
    "\n",
    "# Save the result as a new raster\n",
    "profile = src.profile.copy()\n",
    "profile.update(dtype='float32', nodata=None)\n",
    "\n",
    "with rasterio.open(r\"D:/ASOML/Rockies/features/ASO_CON_gradMag_60_albn83.tif\", 'w', **profile) as dst:\n",
    "    dst.write(grad_mag.astype('float32'), 1)"
   ]
  },
  {
   "cell_type": "code",
   "execution_count": null,
   "id": "d10c4fa6-0baa-4049-9274-8760e86010da",
   "metadata": {},
   "outputs": [],
   "source": []
  },
  {
   "cell_type": "code",
   "execution_count": null,
   "id": "b542acae-dcbb-4c92-a10e-3c6e02a62fba",
   "metadata": {},
   "outputs": [],
   "source": []
  }
 ],
 "metadata": {
  "kernelspec": {
   "display_name": "Python (aso-dl)",
   "language": "python",
   "name": "aso-dl"
  },
  "language_info": {
   "codemirror_mode": {
    "name": "ipython",
    "version": 3
   },
   "file_extension": ".py",
   "mimetype": "text/x-python",
   "name": "python",
   "nbconvert_exporter": "python",
   "pygments_lexer": "ipython3",
   "version": "3.9.18"
  }
 },
 "nbformat": 4,
 "nbformat_minor": 5
}
