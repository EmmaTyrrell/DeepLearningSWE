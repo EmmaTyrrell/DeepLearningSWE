{
 "cells": [
  {
   "cell_type": "code",
   "execution_count": 1,
   "id": "61e14406-2a51-4f12-b892-a3abc10bc530",
   "metadata": {},
   "outputs": [
    {
     "ename": "ImportError",
     "evalue": "DLL load failed while importing _vsiopener: The specified procedure could not be found.",
     "output_type": "error",
     "traceback": [
      "\u001b[31m---------------------------------------------------------------------------\u001b[39m",
      "\u001b[31mImportError\u001b[39m                               Traceback (most recent call last)",
      "\u001b[36mCell\u001b[39m\u001b[36m \u001b[39m\u001b[32mIn[1]\u001b[39m\u001b[32m, line 1\u001b[39m\n\u001b[32m----> \u001b[39m\u001b[32m1\u001b[39m \u001b[38;5;28;01mimport\u001b[39;00m\u001b[38;5;250m \u001b[39m\u001b[34;01mrasterio\u001b[39;00m\n\u001b[32m      2\u001b[39m \u001b[38;5;28;01mimport\u001b[39;00m\u001b[38;5;250m \u001b[39m\u001b[34;01mdempy\u001b[39;00m\n\u001b[32m      3\u001b[39m \u001b[38;5;28;01mimport\u001b[39;00m\u001b[38;5;250m \u001b[39m\u001b[34;01mnumpy\u001b[39;00m\u001b[38;5;250m \u001b[39m\u001b[38;5;28;01mas\u001b[39;00m\u001b[38;5;250m \u001b[39m\u001b[34;01mnp\u001b[39;00m\n",
      "\u001b[36mFile \u001b[39m\u001b[32m~\\anaconda3\\envs\\xdem\\Lib\\site-packages\\rasterio\\__init__.py:27\u001b[39m\n\u001b[32m     25\u001b[39m \u001b[38;5;28;01mfrom\u001b[39;00m\u001b[38;5;250m \u001b[39m\u001b[34;01mrasterio\u001b[39;00m\u001b[34;01m.\u001b[39;00m\u001b[34;01m_base\u001b[39;00m\u001b[38;5;250m \u001b[39m\u001b[38;5;28;01mimport\u001b[39;00m DatasetBase\n\u001b[32m     26\u001b[39m \u001b[38;5;28;01mfrom\u001b[39;00m\u001b[38;5;250m \u001b[39m\u001b[34;01mrasterio\u001b[39;00m\u001b[34;01m.\u001b[39;00m\u001b[34;01m_io\u001b[39;00m\u001b[38;5;250m \u001b[39m\u001b[38;5;28;01mimport\u001b[39;00m Statistics\n\u001b[32m---> \u001b[39m\u001b[32m27\u001b[39m \u001b[38;5;28;01mfrom\u001b[39;00m\u001b[38;5;250m \u001b[39m\u001b[34;01mrasterio\u001b[39;00m\u001b[34;01m.\u001b[39;00m\u001b[34;01m_vsiopener\u001b[39;00m\u001b[38;5;250m \u001b[39m\u001b[38;5;28;01mimport\u001b[39;00m _opener_registration\n\u001b[32m     28\u001b[39m \u001b[38;5;28;01mfrom\u001b[39;00m\u001b[38;5;250m \u001b[39m\u001b[34;01mrasterio\u001b[39;00m\u001b[34;01m.\u001b[39;00m\u001b[34;01m_show_versions\u001b[39;00m\u001b[38;5;250m \u001b[39m\u001b[38;5;28;01mimport\u001b[39;00m show_versions\n\u001b[32m     29\u001b[39m \u001b[38;5;28;01mfrom\u001b[39;00m\u001b[38;5;250m \u001b[39m\u001b[34;01mrasterio\u001b[39;00m\u001b[34;01m.\u001b[39;00m\u001b[34;01m_version\u001b[39;00m\u001b[38;5;250m \u001b[39m\u001b[38;5;28;01mimport\u001b[39;00m gdal_version, get_geos_version, get_proj_version\n",
      "\u001b[31mImportError\u001b[39m: DLL load failed while importing _vsiopener: The specified procedure could not be found."
     ]
    }
   ],
   "source": [
    "import rasterio\n",
    "import dempy\n",
    "import numpy as np\n",
    "import pandas as pd\n",
    "import geopandas as gpd\n",
    "print(\"import modules\")\n",
    "\n"
   ]
  },
  {
   "cell_type": "code",
   "execution_count": null,
   "id": "2e97b7e5-6d9a-4946-bc1f-05fa15651519",
   "metadata": {},
   "outputs": [],
   "source": [
    "# project code for wind scour analysis import numpy as np\n",
    "import rasterio\n",
    "\n",
    "# Load DEM and Wind Direction Raster\n",
    "dem_path = \"input_dem.tif\"\n",
    "wind_dir_path = \"wind_direction.tif\"\n",
    "\n",
    "with rasterio.open(dem_path) as dem_src, rasterio.open(wind_dir_path) as wind_src:\n",
    "    dem = dem_src.read(1)  # Elevation values\n",
    "    wind_dir = wind_src.read(1)  # Wind direction (in degrees)\n",
    "    profile = dem_src.profile\n",
    "    transform = dem_src.transform\n",
    "    res = transform[0]  # Cell resolution (assuming square pixels)\n",
    "\n",
    "# Convert Wind Direction to Radians\n",
    "wind_rad = np.deg2rad(wind_dir)\n",
    "\n",
    "# Initialize output raster\n",
    "rows, cols = dem.shape\n",
    "sx = np.full_like(dem, np.nan, dtype=np.float32)  # Wind shelter index raster\n",
    "\n",
    "# Define maximum search distance (200m)\n",
    "max_distance = 200  # meters\n",
    "max_pixels = int(max_distance / res)  # Convert to pixels\n",
    "\n",
    "# Compute Wind Shelter Index (Sx) for each cell\n",
    "for i in range(rows):\n",
    "    for j in range(cols):\n",
    "        if np.isnan(dem[i, j]) or np.isnan(wind_rad[i, j]):\n",
    "            continue  # Skip no-data values\n",
    "        \n",
    "        max_slope = -np.inf  # Initialize the maximum slope found\n",
    "\n",
    "        # Search in the direction specified by the wind direction raster\n",
    "        for d in range(1, max_pixels + 1):  # Search up to 200m\n",
    "            dx = int(np.round(d * np.cos(wind_rad[i, j])))  # X-offset\n",
    "            dy = int(np.round(d * np.sin(wind_rad[i, j])))  # Y-offset\n",
    "            ni, nj = i + dy, j + dx  # Neighboring pixel\n",
    "\n",
    "            if 0 <= ni < rows and 0 <= nj < cols:\n",
    "                slope = (dem[ni, nj] - dem[i, j]) / (d * res)  # Compute slope\n",
    "                max_slope = max(max_slope, slope)  # Keep max upwind slope\n",
    "\n",
    "        sx[i, j] = max_slope if max_slope != -np.inf else np.nan  # Assign value\n",
    "\n",
    "# Save Wind Shelter Index (Sx) Raster\n",
    "output_path = \"wind_shelter_200m.tif\"\n",
    "profile.update(dtype=rasterio.float32, nodata=np.nan)\n",
    "with rasterio.open(output_path, 'w', **profile) as dst:\n",
    "    dst.write(sx, 1)\n",
    "\n",
    "print(f\"Saved wind shelter index raster following Winstral et al. (2002) to {output_path}\")\n"
   ]
  }
 ],
 "metadata": {
  "kernelspec": {
   "display_name": "Python (xdem)",
   "language": "python",
   "name": "xdem"
  },
  "language_info": {
   "codemirror_mode": {
    "name": "ipython",
    "version": 3
   },
   "file_extension": ".py",
   "mimetype": "text/x-python",
   "name": "python",
   "nbconvert_exporter": "python",
   "pygments_lexer": "ipython3",
   "version": "3.12.9"
  }
 },
 "nbformat": 4,
 "nbformat_minor": 5
}
