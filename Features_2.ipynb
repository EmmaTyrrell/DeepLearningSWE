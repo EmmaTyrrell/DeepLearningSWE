{
 "cells": [
  {
   "cell_type": "code",
   "execution_count": null,
   "id": "e0ebc50a-8f3e-42a9-92e3-06b34db25040",
   "metadata": {},
   "outputs": [],
   "source": [
    "# take two on features\n",
    "import rasterio\n",
    "import numpy as np\n",
    "from scipy.ndimage import generic_filter\n",
    "\n",
    "dem = r\"D:\\ASOML\\Sierras\\features\\ASOML_dem_slope_60_albn83.tif\"\n",
    "# Load your DEM\n",
    "with rasterio.open(dem) as src:\n",
    "    dem = src.read(1, masked=True)  # Read as masked array to handle nodata\n",
    "    profile = src.profile\n",
    "    print(\"dem read in\")\n",
    "\n",
    "# Define a function that handles masked arrays for std\n",
    "def std_func(values):\n",
    "    values = values[~np.isnan(values)]\n",
    "    return np.std(values) if len(values) > 0 else np.nan\n",
    "\n",
    "print(\"function defined\")\n",
    "# Apply 3x3 window standard deviation\n",
    "std_dem = generic_filter(dem.filled(np.nan), std_func, size=3)\n",
    "print(\"window created\")\n",
    "\n",
    "# Mask the result where original DEM was masked\n",
    "std_dem = np.ma.array(std_dem, mask=dem.mask)\n",
    "print(\"file masked\")\n",
    "\n",
    "# Update profile for output\n",
    "profile.update(dtype=rasterio.float32, nodata=np.nan)\n",
    "print(\"profile\")\n",
    "\n",
    "# Save output\n",
    "with rasterio.open(\"slope_std_3x3.tif\", \"w\", **profile) as dst:\n",
    "    dst.write(std_dem.astype(rasterio.float32), 1)\n"
   ]
  },
  {
   "cell_type": "code",
   "execution_count": 1,
   "id": "e2ecea20-b4fa-4096-b7f7-5a8088f6d5d6",
   "metadata": {},
   "outputs": [
    {
     "name": "stdout",
     "output_type": "stream",
     "text": [
      "raster read in\n",
      "cols\n",
      "broadcasting\n"
     ]
    }
   ],
   "source": [
    "import rasterio\n",
    "from rasterio.transform import xy\n",
    "import numpy as np\n",
    "\n",
    "# Path to your reference raster\n",
    "out_raster_path =  r\"D:\\ASOML\\Rockies\\features\\longitude_raster.tif\"\n",
    "dem = r\"D:/ASOML/Rockies/features/ASO_CON_dem_albn83_60m.tif\"\n",
    "# Open reference raster\n",
    "with rasterio.open(dem) as src:\n",
    "    height, width = src.height, src.width\n",
    "    transform = src.transform\n",
    "    crs = src.crs\n",
    "    print(\"raster read in\")\n",
    "\n",
    "    # Get X (longitude) coordinates for each column index\n",
    "    col_indices = np.arange(width)\n",
    "    row_index = 0  # any row works since X doesn't change with Y\n",
    "    xs, _ = xy(transform, [row_index] * width, col_indices, offset='center')\n",
    "    print(\"cols\")\n",
    "\n",
    "    # Broadcast to all rows\n",
    "    longitudes = np.tile(xs, (height, 1)).astype(np.float32)\n",
    "    print(\"broadcasting\")\n",
    "\n",
    "    # Write to raster\n",
    "    profile = src.profile\n",
    "    profile.update(dtype='float32', count=1, compress='lzw')\n",
    "\n",
    "    with rasterio.open(out_raster_path, 'w', **profile) as dst:\n",
    "        dst.write(longitudes, 1)"
   ]
  },
  {
   "cell_type": "code",
   "execution_count": 2,
   "id": "ea54ed74-2568-46ae-8f42-4797b1fc2c27",
   "metadata": {},
   "outputs": [],
   "source": [
    "import rasterio\n",
    "import numpy as np\n",
    "from rasterio.transform import xy\n",
    "\n",
    "out_raster_path = r\"D:\\ASOML\\Rockies\\features\\latitude_raster.tif\"\n",
    "dem = r\"D:/ASOML/Rockies/features/ASO_CON_dem_albn83_60m.tif\"\n",
    "with rasterio.open(dem) as src:\n",
    "    height, width = src.height, src.width\n",
    "    transform = src.transform\n",
    "    crs = src.crs\n",
    "\n",
    "    # Get Y (latitude) coordinates for each row index\n",
    "    row_indices = np.arange(height)\n",
    "    col_index = 0  # doesn't matter, since Y doesn't change with X\n",
    "    _, ys = xy(transform, row_indices, [col_index] * height, offset='center')\n",
    "\n",
    "    # Broadcast to all columns to make a 2D array\n",
    "    latitudes = np.tile(np.array(ys).reshape(-1, 1), (1, width)).astype(np.float32)\n",
    "\n",
    "    # Write to raster\n",
    "    profile = src.profile\n",
    "    profile.update(dtype='float32', count=1, compress='lzw')\n",
    "\n",
    "    with rasterio.open(out_raster_path, 'w', **profile) as dst:\n",
    "        dst.write(latitudes, 1)\n"
   ]
  },
  {
   "cell_type": "code",
   "execution_count": null,
   "id": "39f66b09-4b57-407f-9fed-798d04f9c5ea",
   "metadata": {},
   "outputs": [],
   "source": []
  }
 ],
 "metadata": {
  "kernelspec": {
   "display_name": "Python (aso-dl)",
   "language": "python",
   "name": "aso-dl"
  },
  "language_info": {
   "codemirror_mode": {
    "name": "ipython",
    "version": 3
   },
   "file_extension": ".py",
   "mimetype": "text/x-python",
   "name": "python",
   "nbconvert_exporter": "python",
   "pygments_lexer": "ipython3",
   "version": "3.9.18"
  }
 },
 "nbformat": 4,
 "nbformat_minor": 5
}
