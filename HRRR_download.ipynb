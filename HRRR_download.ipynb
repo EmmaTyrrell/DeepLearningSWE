{
 "cells": [
  {
   "cell_type": "code",
   "execution_count": null,
   "id": "66130e4b-1624-4e67-b473-df623f50a1c6",
   "metadata": {},
   "outputs": [
    {
     "name": "stdout",
     "output_type": "stream",
     "text": [
      "Modules imported\n",
      "\n",
      "📅 Processing 2024-09-06 00:00 UTC\n",
      "✅ Found ┊ model=hrrr ┊ \u001b[3mproduct=sfc\u001b[0m ┊ \u001b[38;2;41;130;13m2024-Sep-06 00:00 UTC\u001b[92m F00\u001b[0m ┊ \u001b[38;2;255;153;0m\u001b[3mGRIB2 @ aws\u001b[0m ┊ \u001b[38;2;255;153;0m\u001b[3mIDX @ aws\u001b[0m\n",
      "👨🏻‍🏭 Created directory: [D:\\ASOML\\HRRR\\hrrr_wind_data\\hrrr\\20240906]\n",
      "\n",
      "📅 Processing 2024-09-06 04:00 UTC\n",
      "✅ Found ┊ model=hrrr ┊ \u001b[3mproduct=sfc\u001b[0m ┊ \u001b[38;2;41;130;13m2024-Sep-06 04:00 UTC\u001b[92m F00\u001b[0m ┊ \u001b[38;2;255;153;0m\u001b[3mGRIB2 @ aws\u001b[0m ┊ \u001b[38;2;255;153;0m\u001b[3mIDX @ aws\u001b[0m\n"
     ]
    }
   ],
   "source": [
    "from herbie import Herbie\n",
    "from datetime import datetime, timedelta\n",
    "import os\n",
    "import xarray as xr\n",
    "import numpy as np\n",
    "import rasterio\n",
    "from rasterio.transform import Affine\n",
    "from pyproj import CRS\n",
    "print(\"Modules imported\")\n",
    "\n",
    "# Date settings\n",
    "start_date = datetime(2024, 9, 6)\n",
    "end_date = start_date + timedelta(days=120)\n",
    "\n",
    "# Output folders\n",
    "save_dir = \"D:/ASOML/HRRR/hrrr_wind_data/\"\n",
    "output_dir = \"D:/ASOML/HRRR/hrrr_geotiffs\"\n",
    "wind_dir = \"D:/ASOML/HRRR/hrrr_wind_data/finalWindHourly\"\n",
    "os.makedirs(save_dir, exist_ok=True)\n",
    "os.makedirs(output_dir, exist_ok=True)\n",
    "os.makedirs(wind_dir, exist_ok=True)\n",
    "\n",
    "# HRRR run times (00 UTC)\n",
    "init_hours = [0, 4, 12, 16, 20]\n",
    "\n",
    "for single_date in (start_date + timedelta(n) for n in range((end_date - start_date).days + 1)):\n",
    "    for hour in init_hours:\n",
    "        init_time = single_date.replace(hour=hour)\n",
    "        print(f\"\\n📅 Processing {init_time.strftime('%Y-%m-%d %H:%M')} UTC\")\n",
    "\n",
    "   \n",
    "        h = Herbie(init_time, model=\"hrrr\", product=\"sfc\", fxx=0)\n",
    "        grib_file = h.download(save_dir=save_dir)"
   ]
  },
  {
   "cell_type": "code",
   "execution_count": null,
   "id": "dabb0533-a4cd-498b-8c9d-60443d786759",
   "metadata": {},
   "outputs": [],
   "source": []
  },
  {
   "cell_type": "code",
   "execution_count": null,
   "id": "11ccc8de-157f-41bb-a160-17b3f82aaa96",
   "metadata": {},
   "outputs": [],
   "source": []
  }
 ],
 "metadata": {
  "kernelspec": {
   "display_name": "Python (aso-dl)",
   "language": "python",
   "name": "aso-dl"
  },
  "language_info": {
   "codemirror_mode": {
    "name": "ipython",
    "version": 3
   },
   "file_extension": ".py",
   "mimetype": "text/x-python",
   "name": "python",
   "nbconvert_exporter": "python",
   "pygments_lexer": "ipython3",
   "version": "3.9.18"
  }
 },
 "nbformat": 4,
 "nbformat_minor": 5
}
